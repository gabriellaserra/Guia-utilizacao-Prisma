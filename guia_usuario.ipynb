{
 "cells": [
  {
   "cell_type": "code",
   "execution_count": 1,
   "metadata": {},
   "outputs": [
    {
     "name": "stdout",
     "output_type": "stream",
     "text": [
      "Collecting mkdocs-material\n",
      "  Downloading mkdocs_material-9.5.50-py3-none-any.whl.metadata (18 kB)\n",
      "Collecting babel~=2.10 (from mkdocs-material)\n",
      "  Downloading babel-2.16.0-py3-none-any.whl.metadata (1.5 kB)\n",
      "Requirement already satisfied: colorama~=0.4 in c:\\users\\gabriellaserra\\appdata\\roaming\\python\\python313\\site-packages (from mkdocs-material) (0.4.6)\n",
      "Collecting jinja2~=3.0 (from mkdocs-material)\n",
      "  Downloading jinja2-3.1.5-py3-none-any.whl.metadata (2.6 kB)\n",
      "Collecting markdown~=3.2 (from mkdocs-material)\n",
      "  Downloading Markdown-3.7-py3-none-any.whl.metadata (7.0 kB)\n",
      "Collecting mkdocs-material-extensions~=1.3 (from mkdocs-material)\n",
      "  Downloading mkdocs_material_extensions-1.3.1-py3-none-any.whl.metadata (6.9 kB)\n",
      "Collecting mkdocs~=1.6 (from mkdocs-material)\n",
      "  Downloading mkdocs-1.6.1-py3-none-any.whl.metadata (6.0 kB)\n",
      "Collecting paginate~=0.5 (from mkdocs-material)\n",
      "  Downloading paginate-0.5.7-py2.py3-none-any.whl.metadata (11 kB)\n",
      "Requirement already satisfied: pygments~=2.16 in c:\\users\\gabriellaserra\\appdata\\roaming\\python\\python313\\site-packages (from mkdocs-material) (2.19.1)\n",
      "Collecting pymdown-extensions~=10.2 (from mkdocs-material)\n",
      "  Downloading pymdown_extensions-10.14.2-py3-none-any.whl.metadata (3.0 kB)\n",
      "Collecting regex>=2022.4 (from mkdocs-material)\n",
      "  Downloading regex-2024.11.6-cp313-cp313-win_amd64.whl.metadata (41 kB)\n",
      "Requirement already satisfied: requests~=2.26 in c:\\users\\gabriellaserra\\appdata\\local\\programs\\python\\python313\\lib\\site-packages (from mkdocs-material) (2.32.3)\n",
      "Collecting MarkupSafe>=2.0 (from jinja2~=3.0->mkdocs-material)\n",
      "  Downloading MarkupSafe-3.0.2-cp313-cp313-win_amd64.whl.metadata (4.1 kB)\n",
      "Collecting click>=7.0 (from mkdocs~=1.6->mkdocs-material)\n",
      "  Downloading click-8.1.8-py3-none-any.whl.metadata (2.3 kB)\n",
      "Collecting ghp-import>=1.0 (from mkdocs~=1.6->mkdocs-material)\n",
      "  Downloading ghp_import-2.1.0-py3-none-any.whl.metadata (7.2 kB)\n",
      "Collecting mergedeep>=1.3.4 (from mkdocs~=1.6->mkdocs-material)\n",
      "  Downloading mergedeep-1.3.4-py3-none-any.whl.metadata (4.3 kB)\n",
      "Collecting mkdocs-get-deps>=0.2.0 (from mkdocs~=1.6->mkdocs-material)\n",
      "  Downloading mkdocs_get_deps-0.2.0-py3-none-any.whl.metadata (4.0 kB)\n",
      "Requirement already satisfied: packaging>=20.5 in c:\\users\\gabriellaserra\\appdata\\roaming\\python\\python313\\site-packages (from mkdocs~=1.6->mkdocs-material) (24.2)\n",
      "Collecting pathspec>=0.11.1 (from mkdocs~=1.6->mkdocs-material)\n",
      "  Downloading pathspec-0.12.1-py3-none-any.whl.metadata (21 kB)\n",
      "Collecting pyyaml-env-tag>=0.1 (from mkdocs~=1.6->mkdocs-material)\n",
      "  Downloading pyyaml_env_tag-0.1-py3-none-any.whl.metadata (4.1 kB)\n",
      "Requirement already satisfied: pyyaml>=5.1 in c:\\users\\gabriellaserra\\appdata\\local\\programs\\python\\python313\\lib\\site-packages (from mkdocs~=1.6->mkdocs-material) (6.0.2)\n",
      "Collecting watchdog>=2.0 (from mkdocs~=1.6->mkdocs-material)\n",
      "  Downloading watchdog-6.0.0-py3-none-win_amd64.whl.metadata (44 kB)\n",
      "Requirement already satisfied: charset-normalizer<4,>=2 in c:\\users\\gabriellaserra\\appdata\\local\\programs\\python\\python313\\lib\\site-packages (from requests~=2.26->mkdocs-material) (3.4.1)\n",
      "Requirement already satisfied: idna<4,>=2.5 in c:\\users\\gabriellaserra\\appdata\\local\\programs\\python\\python313\\lib\\site-packages (from requests~=2.26->mkdocs-material) (3.10)\n",
      "Requirement already satisfied: urllib3<3,>=1.21.1 in c:\\users\\gabriellaserra\\appdata\\local\\programs\\python\\python313\\lib\\site-packages (from requests~=2.26->mkdocs-material) (2.3.0)\n",
      "Requirement already satisfied: certifi>=2017.4.17 in c:\\users\\gabriellaserra\\appdata\\local\\programs\\python\\python313\\lib\\site-packages (from requests~=2.26->mkdocs-material) (2024.12.14)\n",
      "Requirement already satisfied: python-dateutil>=2.8.1 in c:\\users\\gabriellaserra\\appdata\\roaming\\python\\python313\\site-packages (from ghp-import>=1.0->mkdocs~=1.6->mkdocs-material) (2.9.0.post0)\n",
      "Requirement already satisfied: platformdirs>=2.2.0 in c:\\users\\gabriellaserra\\appdata\\roaming\\python\\python313\\site-packages (from mkdocs-get-deps>=0.2.0->mkdocs~=1.6->mkdocs-material) (4.3.6)\n",
      "Requirement already satisfied: six>=1.5 in c:\\users\\gabriellaserra\\appdata\\roaming\\python\\python313\\site-packages (from python-dateutil>=2.8.1->ghp-import>=1.0->mkdocs~=1.6->mkdocs-material) (1.17.0)\n",
      "Downloading mkdocs_material-9.5.50-py3-none-any.whl (8.6 MB)\n",
      "   ---------------------------------------- 0.0/8.6 MB ? eta -:--:--\n",
      "   ------------------ --------------------- 3.9/8.6 MB 21.8 MB/s eta 0:00:01\n",
      "   ---------------------------------------- 8.6/8.6 MB 22.1 MB/s eta 0:00:00\n",
      "Downloading babel-2.16.0-py3-none-any.whl (9.6 MB)\n",
      "   ---------------------------------------- 0.0/9.6 MB ? eta -:--:--\n",
      "   ---------------------------------------- 9.6/9.6 MB 52.2 MB/s eta 0:00:00\n",
      "Downloading jinja2-3.1.5-py3-none-any.whl (134 kB)\n",
      "Downloading Markdown-3.7-py3-none-any.whl (106 kB)\n",
      "Downloading mkdocs-1.6.1-py3-none-any.whl (3.9 MB)\n",
      "   ---------------------------------------- 0.0/3.9 MB ? eta -:--:--\n",
      "   ---------------------------------------- 3.9/3.9 MB 55.3 MB/s eta 0:00:00\n",
      "Downloading mkdocs_material_extensions-1.3.1-py3-none-any.whl (8.7 kB)\n",
      "Downloading paginate-0.5.7-py2.py3-none-any.whl (13 kB)\n",
      "Downloading pymdown_extensions-10.14.2-py3-none-any.whl (264 kB)\n",
      "Downloading regex-2024.11.6-cp313-cp313-win_amd64.whl (273 kB)\n",
      "Downloading click-8.1.8-py3-none-any.whl (98 kB)\n",
      "Downloading ghp_import-2.1.0-py3-none-any.whl (11 kB)\n",
      "Downloading MarkupSafe-3.0.2-cp313-cp313-win_amd64.whl (15 kB)\n",
      "Downloading mergedeep-1.3.4-py3-none-any.whl (6.4 kB)\n",
      "Downloading mkdocs_get_deps-0.2.0-py3-none-any.whl (9.5 kB)\n",
      "Downloading pathspec-0.12.1-py3-none-any.whl (31 kB)\n",
      "Downloading pyyaml_env_tag-0.1-py3-none-any.whl (3.9 kB)\n",
      "Downloading watchdog-6.0.0-py3-none-win_amd64.whl (79 kB)\n",
      "Installing collected packages: paginate, watchdog, regex, pyyaml-env-tag, pathspec, mkdocs-material-extensions, mergedeep, MarkupSafe, markdown, click, babel, pymdown-extensions, mkdocs-get-deps, jinja2, ghp-import, mkdocs, mkdocs-material\n",
      "Successfully installed MarkupSafe-3.0.2 babel-2.16.0 click-8.1.8 ghp-import-2.1.0 jinja2-3.1.5 markdown-3.7 mergedeep-1.3.4 mkdocs-1.6.1 mkdocs-get-deps-0.2.0 mkdocs-material-9.5.50 mkdocs-material-extensions-1.3.1 paginate-0.5.7 pathspec-0.12.1 pymdown-extensions-10.14.2 pyyaml-env-tag-0.1 regex-2024.11.6 watchdog-6.0.0\n",
      "Note: you may need to restart the kernel to use updated packages.\n"
     ]
    },
    {
     "name": "stderr",
     "output_type": "stream",
     "text": [
      "\n",
      "[notice] A new release of pip is available: 24.3.1 -> 25.0\n",
      "[notice] To update, run: python.exe -m pip install --upgrade pip\n"
     ]
    }
   ],
   "source": [
    "#pip install mkdocs-material"
   ]
  },
  {
   "cell_type": "code",
   "execution_count": null,
   "metadata": {},
   "outputs": [],
   "source": []
  }
 ],
 "metadata": {
  "kernelspec": {
   "display_name": "Python 3",
   "language": "python",
   "name": "python3"
  },
  "language_info": {
   "codemirror_mode": {
    "name": "ipython",
    "version": 3
   },
   "file_extension": ".py",
   "mimetype": "text/x-python",
   "name": "python",
   "nbconvert_exporter": "python",
   "pygments_lexer": "ipython3",
   "version": "3.13.1"
  }
 },
 "nbformat": 4,
 "nbformat_minor": 2
}
